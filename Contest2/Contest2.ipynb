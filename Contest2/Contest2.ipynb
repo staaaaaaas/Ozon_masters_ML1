{
 "cells": [
  {
   "cell_type": "markdown",
   "id": "3b16e56a-6c6d-4af6-8472-05de9ac8d276",
   "metadata": {},
   "source": [
    "# Библиотеки для АД. NumPy"
   ]
  },
  {
   "cell_type": "markdown",
   "id": "6e0a445d-6b1e-4ac3-b787-53bb3be8246c",
   "metadata": {
    "tags": []
   },
   "source": [
    "# Задание 1\n",
    "\n",
    "Напишите функцию get_nonzero_diag_product(X), которая подсчитывает произведение ненулевых элементов на диагонали прямоугольной матрицы. Если все элементы на диагонали нулевые, функция должна вернуть None.\n",
    "\n",
    "Функция должна быть написана с использованием библиотеки numpy. Использование циклов категорически запрещено."
   ]
  },
  {
   "cell_type": "code",
   "execution_count": 55,
   "id": "1e860779-8731-4972-90ae-9938bbfc7bf3",
   "metadata": {},
   "outputs": [],
   "source": [
    "import numpy as np\n",
    "\n",
    "\n",
    "def get_nonzero_diag_product(X):\n",
    "    d = np.diag(X)\n",
    "    if any(d != 0):\n",
    "        return np.prod(d[d != 0])\n",
    "    else:\n",
    "        return None"
   ]
  },
  {
   "cell_type": "code",
   "execution_count": 56,
   "id": "2828f8a0-f42c-46f6-9acf-0420f1226c57",
   "metadata": {},
   "outputs": [
    {
     "data": {
      "text/plain": [
       "1"
      ]
     },
     "execution_count": 56,
     "metadata": {},
     "output_type": "execute_result"
    }
   ],
   "source": [
    "get_nonzero_diag_product(np.array([[1, 0], [0, 0]]))"
   ]
  },
  {
   "cell_type": "markdown",
   "id": "4cedb9e1-29e2-445b-bc63-16f904bb3d0e",
   "metadata": {},
   "source": [
    "# Задание 2\n",
    "\n",
    "Охотники за сокровищами отправились за очередным кладом в необычное место, которое называется \"Поле чудес\". \"Поле чудес\" имеет размер H на W метров. На каждом квадратном метре \"Поля чудес\" закопан сундук с определённым количеством камней. Скоро \"Поле чудес\" должен посетить лепрекон. Под влиянием лепрекона камни в сундуках превращаются в золотые монеты. Лепрекон появляется в определённой клетке поля и действует на прямоугольную область размером h на w, верхний левый край этой области - точка, где стоит лепрекон. Охотники за сокровищами не знают, когда точно появятся лепрекон, но хотят получить как можно больше золота. Известно вероятностное распределение на появление лепрекона в каждый момент времени в каждой клетке поля. Необходимо для каждой клетки \"Поля чудес\" посчитать математическое ожидание награды, которое будет получено от этой клетки.\n",
    "\n",
    "Необходимо написать функцию calc_expectations(h, w, X, Q), где:\n",
    "\n",
    "* h, w - размеры области влияния лепрекона;\n",
    "* X - матрица целых чисел размера H на W; X[i, j] - количество камней в i, j клетке;\n",
    "* Q - матрица вещественных чисел размера H на W, задающая вероятностное распределение; Q[i, j] - вероятность появления лепрекона в точке i, j.\n",
    "\n",
    "Функция возвращает матрицу E размера H на W; E[i, j] – математическое ожидание награды в i, j клетке.\n",
    "\n",
    "Функция должна быть написана с использованием библиотеки numpy. Использование циклов категорически запрещено."
   ]
  },
  {
   "cell_type": "code",
   "execution_count": 1,
   "id": "ace363f1-894e-44aa-a0f4-c4679a43cd05",
   "metadata": {},
   "outputs": [],
   "source": [
    "import numpy as np\n",
    "\n",
    "\n",
    "def calc_expectations(h, w, X, Q):\n",
    "    R = np.apply_along_axis(lambda x: np.concatenate(\n",
    "        [np.cumsum(x[:w - 1]), np.convolve(x, np.ones(w), 'valid')]), axis=1, arr=Q)\n",
    "    R = np.apply_along_axis(lambda x: np.concatenate(\n",
    "        [np.cumsum(x[:h - 1]), np.convolve(x, np.ones(h), 'valid')]), axis=0, arr=R)\n",
    "    return X * R"
   ]
  },
  {
   "cell_type": "code",
   "execution_count": 97,
   "id": "6aadb576-524a-45c9-8d2b-3cf120cf0c6d",
   "metadata": {},
   "outputs": [],
   "source": [
    "def calc_expectations(h, w, X, Q):\n",
    "    Q = np.apply_along_axis(lambda x: np.convolve(x, np.ones(w), mode = 'full'), axis = 1, arr =Q)\n",
    "    Q = np.apply_along_axis(lambda x: np.convolve(x, np.ones(h), mode = 'full'), axis = 0, arr =Q)\n",
    "    Q = Q[:X.shape[0], :X.shape[1]]\n",
    "    return X * Q"
   ]
  },
  {
   "cell_type": "markdown",
   "id": "919f5858-8d63-4926-8eaa-a1518039a983",
   "metadata": {},
   "source": [
    "# Задание 3\n",
    "\n",
    "Напишите функцию replace_nan_to_means(X), принимающую матрицу X. Функция должна вернуть копию матрицы X, в которой все значения nan в каждом столбце заменены на среднее арифметическое остальных элементов столбца. В случае столбца из одних nan необходимо заменить все элементы столбца на нули. Исходная матрица X должна остаться неизменной.\n",
    "\n",
    "Функция должна быть написана с использованием библиотеки numpy. Использование циклов категорически запрещено."
   ]
  },
  {
   "cell_type": "code",
   "execution_count": 235,
   "id": "6d5fb949-1fb8-42b3-9b9c-186528d7cca0",
   "metadata": {},
   "outputs": [],
   "source": [
    "import numpy as np\n",
    "\n",
    "\n",
    "def replace_nan_to_means(X):\n",
    "    mask = np.all(np.isnan(X), axis=0)\n",
    "    X_new = X.copy()\n",
    "    X_new[:, mask] = 0\n",
    "    X_new = np.nan_to_num(X_new, copy=False, nan=np.nanmean(X_new, axis=0))\n",
    "    return X_new"
   ]
  },
  {
   "cell_type": "code",
   "execution_count": 506,
   "id": "e76322c7-a5b9-4782-9e40-9b1cbca650dd",
   "metadata": {},
   "outputs": [
    {
     "data": {
      "text/plain": [
       "array([[0. , 1. , 2. ],\n",
       "       [2.5, 1. , 4.5],\n",
       "       [5. , 6. , 7. ]])"
      ]
     },
     "execution_count": 506,
     "metadata": {},
     "output_type": "execute_result"
    }
   ],
   "source": [
    "replace_nan_to_means(np.array([[0, 1, 2], [np.nan, 1, np.nan], [5, 6, 7]]))"
   ]
  },
  {
   "cell_type": "markdown",
   "id": "8111bc0e-c7bb-4a19-a474-6e1e968f7eec",
   "metadata": {},
   "source": [
    "# Задание 4\n",
    "\n",
    "Напишите get_max_after_zero(x), возвращающую максимальный элемент в векторе x среди элементов, перед которыми стоит нулевой. Если подходящих элементов нет, функция должна возвращать None.\n",
    "\n",
    "Функция должна быть написана с использованием библиотеки numpy. Использование циклов категорически запрещено."
   ]
  },
  {
   "cell_type": "code",
   "execution_count": 297,
   "id": "a315ea1f-4966-452b-9dfb-c7db414276cf",
   "metadata": {},
   "outputs": [],
   "source": [
    "import numpy as np\n",
    "\n",
    "\n",
    "def get_max_after_zero(x):\n",
    "    if np.all(x != 0):\n",
    "        return None\n",
    "    zeroes_ind = np.where(x == 0)[0]\n",
    "    zeroes_ind = zeroes_ind[zeroes_ind != x.shape[0] - 1]\n",
    "    if zeroes_ind.shape[0] == 0:\n",
    "        return None\n",
    "    return np.max(x[zeroes_ind + 1])"
   ]
  },
  {
   "cell_type": "code",
   "execution_count": 504,
   "id": "17f93686-3bb3-4b9c-834b-bffce69f65f5",
   "metadata": {},
   "outputs": [
    {
     "data": {
      "text/plain": [
       "5"
      ]
     },
     "execution_count": 504,
     "metadata": {},
     "output_type": "execute_result"
    }
   ],
   "source": [
    "get_max_after_zero(np.array([1, 2, 9, 8, 0, 5]))"
   ]
  },
  {
   "cell_type": "markdown",
   "id": "e7a49bea-4658-451f-bead-a4f36f1a4438",
   "metadata": {},
   "source": [
    "# Задание 5\n",
    "\n",
    "Напишите функцию encode_rle(x), реализующую кодирование длин серий (Run-length encoding). По входному вектору x необходимо вернуть кортеж из двух векторов одинаковой длины. Первый содержит числа, а второй — сколько раз их нужно повторить.\n",
    "\n",
    "Функция должна быть написана с использованием библиотеки numpy. Использование циклов категорически запрещено."
   ]
  },
  {
   "cell_type": "code",
   "execution_count": 500,
   "id": "51089fec-bf37-4c5c-a5a3-929c4d2e1bb1",
   "metadata": {},
   "outputs": [],
   "source": [
    "import numpy as np\n",
    "\n",
    "\n",
    "def encode_rle(x):\n",
    "    change_ind = np.where(x[:-1] != x[1:])[0] + 1\n",
    "    change_ind = np.concatenate([[0], change_ind])\n",
    "    nums = x[change_ind]\n",
    "    counts = np.diff(np.concatenate([change_ind, [x.shape[0]]]))\n",
    "    return nums, counts"
   ]
  },
  {
   "cell_type": "code",
   "execution_count": 503,
   "id": "21be78e5-d145-4fb1-b1de-5a23c2e6b7a9",
   "metadata": {},
   "outputs": [
    {
     "data": {
      "text/plain": [
       "(array([0, 1, 2, 1]), array([2, 3, 1, 1], dtype=int64))"
      ]
     },
     "execution_count": 503,
     "metadata": {},
     "output_type": "execute_result"
    }
   ],
   "source": [
    "encode_rle(np.array([0, 0, 1, 1, 1, 2, 1]))"
   ]
  },
  {
   "cell_type": "markdown",
   "id": "b74c961d-ba63-4188-9d67-d6d8c7c52c67",
   "metadata": {},
   "source": [
    "# Задание 6\n",
    "\n",
    "**Часть 1**\n",
    "\n",
    "На вход вашей программе подается бинарный файл input.bin, который содержит в себе двумерный numpy-массив. Все элементы в строке массива уникальны.\n",
    "\n",
    "Напишите программу, которая найдет индексы топ-5 наибольших значений в каждой строке. Индексы должны быть отсортированы в порядке уменьшения значений, хранящихся по этим индексам.\n",
    "\n",
    "**Часть 2**\n",
    "Теперь будем полагать, что в файле input.bin хранится N-мерный numpy-массив (N ≥ 2).\n",
    "\n",
    "Поддержите параметр axis, который указывает, вдоль какой оси должно нужно отбирать индексы. Легко убедиться в том, что в случае N = 2 и axis = 1 имеем базовую формулировку задачи."
   ]
  },
  {
   "cell_type": "markdown",
   "id": "7977bfed-790b-4eae-9c95-cffadbb4c9d3",
   "metadata": {},
   "source": [
    "## Часть 1"
   ]
  },
  {
   "cell_type": "code",
   "execution_count": 1,
   "id": "409a4842-c995-4a6f-b38a-7ece83a7d79b",
   "metadata": {},
   "outputs": [],
   "source": [
    "import numpy as np\n",
    "\n",
    "\n",
    "def get_best_indices(rank, top):\n",
    "    return np.flip(np.argpartition(rank, np.arange(\n",
    "        rank.shape[1] - top, rank.shape[1]), axis=1)[:, -top:], axis=1)\n",
    "\n",
    "\n",
    "# if __name__ == \"__main__\":\n",
    "#     with open('input.bin', 'rb') as f_data:\n",
    "#         ranks = np.load(f_data)\n",
    "#     indices = get_best_indices(ranks, 5)\n",
    "#     with open('output.bin', 'wb') as f_data:\n",
    "#         np.save(f_data, indices)"
   ]
  },
  {
   "cell_type": "code",
   "execution_count": 2,
   "id": "359fe822-6a19-4b47-a4e9-479acf9818f4",
   "metadata": {},
   "outputs": [],
   "source": [
    "a = np.array([[16, 10,  3,  8, 14,  5,  6, 18,  4, 17, 12,  2, 19,  1,  0],\n",
    "       [ 6,  4, 19, 15, 13, 11, 14,  0,  7, 18,  9, 12,  8, 17,  1],\n",
    "       [ 9, 12,  1,  2, 11, 17, 19,  8, 13, 15, 16, 10,  0, 18,  7]])"
   ]
  },
  {
   "cell_type": "code",
   "execution_count": 3,
   "id": "1f4a4dcd-800a-4f39-9c2c-5b94a0ab51ed",
   "metadata": {},
   "outputs": [
    {
     "data": {
      "text/plain": [
       "array([[12,  7,  9,  0,  4],\n",
       "       [ 2,  9, 13,  3,  6],\n",
       "       [ 6, 13,  5, 10,  9]], dtype=int64)"
      ]
     },
     "execution_count": 3,
     "metadata": {},
     "output_type": "execute_result"
    }
   ],
   "source": [
    "get_best_indices(a, top = 5)"
   ]
  },
  {
   "cell_type": "markdown",
   "id": "6cd105db-c556-44ae-8547-215b48b5da7d",
   "metadata": {},
   "source": [
    "## Часть 2"
   ]
  },
  {
   "cell_type": "code",
   "execution_count": 4,
   "id": "98c3de77-8257-4d9c-a7e3-880c1d31b2c6",
   "metadata": {},
   "outputs": [],
   "source": [
    "import numpy as np\n",
    "\n",
    "\n",
    "def get_best_indices(rank, top, axis=1):\n",
    "    return np.apply_along_axis(lambda x: np.flip(np.argpartition(x, np.arange(\n",
    "        x.shape[0] - top, x.shape[0]))[-top:]), axis=axis, arr=rank)\n",
    "\n",
    "\n",
    "# if __name__ == \"__main__\":\n",
    "#     with open('input.bin', 'rb') as f_data:\n",
    "#         ranks = np.load(f_data)\n",
    "#     indices = get_best_indices(rank=ranks, top=5)\n",
    "#     with open('output.bin', 'wb') as f_data:\n",
    "#         np.save(f_data, indices)"
   ]
  },
  {
   "cell_type": "code",
   "execution_count": 23,
   "id": "ceca2e3f-a1d6-4a03-8a57-9015ea599ce7",
   "metadata": {},
   "outputs": [],
   "source": [
    "a = np.array([[16, 10,  3,  8, 14,  5,  6, 18,  4, 17, 12,  2, 19,  1,  0],\n",
    "       [ 6,  4, 19, 15, 13, 11, 14,  0,  7, 18,  9, 12,  8, 17,  1],\n",
    "       [ 9, 12,  1,  2, 11, 17, 19,  8, 13, 15, 16, 10,  0, 18,  7]])"
   ]
  },
  {
   "cell_type": "code",
   "execution_count": 6,
   "id": "30f50879-5442-4a4e-bcd7-a3ad5840ce5f",
   "metadata": {},
   "outputs": [
    {
     "data": {
      "text/plain": [
       "array([[12,  7,  9,  0,  4],\n",
       "       [ 2,  9, 13,  3,  6],\n",
       "       [ 6, 13,  5, 10,  9]], dtype=int64)"
      ]
     },
     "execution_count": 6,
     "metadata": {},
     "output_type": "execute_result"
    }
   ],
   "source": [
    "get_best_indices(a, top = 5, axis = 1)"
   ]
  }
 ],
 "metadata": {
  "kernelspec": {
   "display_name": "Python 3 (ipykernel)",
   "language": "python",
   "name": "python3"
  },
  "language_info": {
   "codemirror_mode": {
    "name": "ipython",
    "version": 3
   },
   "file_extension": ".py",
   "mimetype": "text/x-python",
   "name": "python",
   "nbconvert_exporter": "python",
   "pygments_lexer": "ipython3",
   "version": "3.8.12"
  }
 },
 "nbformat": 4,
 "nbformat_minor": 5
}
