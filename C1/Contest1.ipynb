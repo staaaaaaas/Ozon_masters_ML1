{
 "cells": [
  {
   "cell_type": "markdown",
   "id": "cfd162a8-b8d8-43f6-a98c-6c0e243e4d5f",
   "metadata": {},
   "source": [
    "# Введение в python "
   ]
  },
  {
   "cell_type": "markdown",
   "id": "a8a0c22a-de80-4355-b3f5-809f3bef8492",
   "metadata": {},
   "source": [
    "# Задание 1\n",
    "\n",
    "Напишите функцию check_first_sentence_is_second, принимающую на вход две строки. Каждая строка задаёт предложение. Необходимо проверить, можно ли получить второе предложения из первого с помощью перестановки и удаления слов. Каждая из строк может содержать только буквы и пробелы, любые буквенные последовательности разделённые пробелом считаются разными словами. Если можно, функция должна вернуть True, иначе False."
   ]
  },
  {
   "cell_type": "code",
   "execution_count": 1,
   "id": "d4618d17-69fa-4174-8d32-37f38c41d4cd",
   "metadata": {},
   "outputs": [],
   "source": [
    "def check_first_sentence_is_second(str1, str2):\n",
    "    word_list1 = str1.split()\n",
    "    word_list2 = str2.split()\n",
    "    word_dict1 = {}\n",
    "    for word in word_list1:\n",
    "        word_dict1[word] = word_dict1.get(word, 0) + 1\n",
    "    for word in word_list2:\n",
    "        if word_dict1.get(word, 0) == 0:\n",
    "            return False\n",
    "        else:\n",
    "            word_dict1[word] -= 1\n",
    "    return True"
   ]
  },
  {
   "cell_type": "code",
   "execution_count": 2,
   "id": "01ad8f6e-1de0-4480-831a-4ce2056cacc8",
   "metadata": {},
   "outputs": [
    {
     "data": {
      "text/plain": [
       "True"
      ]
     },
     "execution_count": 2,
     "metadata": {},
     "output_type": "execute_result"
    }
   ],
   "source": [
    "check_first_sentence_is_second('люк я твой отец', 'я отец твой ')"
   ]
  },
  {
   "cell_type": "markdown",
   "id": "eb6a9fa8-ff8f-4764-aeaa-a6c8249f903d",
   "metadata": {},
   "source": [
    "# Задание 2\n",
    "\n",
    "По кругу записано несколько букв (возможно, повторяющихся). Студент хочет узнать, сможет ли он прочитать некоторое слово, если будет двигаться по кругу (в любом направлении), не пропуская буквы.\n",
    "\n",
    "Студент сам выбирает место, с которого он начинает читать, и направление. Необходимо написать функцию find_word_in_circle(circle, word), которая должна возвращать кортеж из двух элементов (если студент может найти строку word в круговой строке circle) или число -1 (если не может). Первый элемент кортежа - позиция, с которой нужно начинать чтение (индекс в строке). Второй элемент - направление чтения (1 - слева направо, -1 - справа налево). Строка word содержит как минимум один символ.\n",
    "\n",
    "Если подходит несколько вариантов ответа, приоритет должен отдаваться варианту, который проходит по часовой стрелке с наименьшим значением для начала позиции.\n",
    "\n",
    "Если подходит несколько вариантов, то приоритет выбора следующий:\n",
    "\n",
    "1. обход по часовой с наименьшей стартовой позицией относительно начала строки (circle);\n",
    "\n",
    "2. обход против часов с наибольшей стартовой позицией относительно начала строки."
   ]
  },
  {
   "cell_type": "code",
   "execution_count": 72,
   "id": "0ca4ffc9-65ac-46fe-a847-d197b9908dc4",
   "metadata": {},
   "outputs": [],
   "source": [
    "def find_word_in_circle(circle, word):\n",
    "    len_word = len(word)\n",
    "    pos = -1\n",
    "    direction = 1\n",
    "    new_circle = circle * len_word\n",
    "    for i in range(len(new_circle)):\n",
    "        if new_circle[i:i + len_word] == word:\n",
    "            pos = i\n",
    "            break\n",
    "    if pos != -1 :\n",
    "        return (pos, direction)\n",
    "    direction = -1\n",
    "    new_circle_reversed = new_circle[::-1]\n",
    "    for i in range(len(new_circle_reversed)):\n",
    "        if new_circle_reversed[i:i + len_word] == word:\n",
    "            pos = len(circle)  - i - 1\n",
    "            break\n",
    "    if pos != -1 :\n",
    "        return (pos, direction)\n",
    "    return -1 "
   ]
  },
  {
   "cell_type": "code",
   "execution_count": 74,
   "id": "b12704f9-7080-40a8-92f7-aeef8115763e",
   "metadata": {},
   "outputs": [
    {
     "data": {
      "text/plain": [
       "(0, 1)"
      ]
     },
     "execution_count": 74,
     "metadata": {},
     "output_type": "execute_result"
    }
   ],
   "source": [
    "find_word_in_circle('ab', 'ababababababababababa')"
   ]
  },
  {
   "cell_type": "markdown",
   "id": "f83b9475-4145-44a4-a544-bb821478f526",
   "metadata": {},
   "source": [
    "# Задание 3\n",
    "\n",
    "Написать функцию find_max_substring_occurrence(input_string), принимающую на вход непустую строку input_string. Функция должна возвращать наибольшее число k, такое что input_string совпадает с некоторой своей подстрокой t, выписанной k раз подряд."
   ]
  },
  {
   "cell_type": "code",
   "execution_count": 46,
   "id": "9205f957-c153-4f1d-ba42-f81d4ea2fcc6",
   "metadata": {},
   "outputs": [],
   "source": [
    "def find_max_substring_occurrence(input_string):\n",
    "    substrings = [input_string[0:j] for j in range(1, len(input_string) + 1)]\n",
    "    k = 0\n",
    "    for t in substrings:\n",
    "        count = input_string.count(t)\n",
    "        if len(t) * count == len(input_string) and count > k:\n",
    "            k = count\n",
    "    return k    "
   ]
  },
  {
   "cell_type": "code",
   "execution_count": 50,
   "id": "1f60622c-0fa7-416d-a53a-b8a4b31749e3",
   "metadata": {},
   "outputs": [
    {
     "data": {
      "text/plain": [
       "5"
      ]
     },
     "execution_count": 50,
     "metadata": {},
     "output_type": "execute_result"
    }
   ],
   "source": [
    "find_max_substring_occurrence('ababababab')"
   ]
  },
  {
   "cell_type": "markdown",
   "id": "585ce108-0fc9-4d7c-b4d8-932173eeefc7",
   "metadata": {},
   "source": [
    "# Задание 4\n",
    "\n",
    "В файле input_dict_name находится русско-английский словарь.\n",
    "\n",
    "В первой строке словаря записано число слов, к которым есть перевод. Затем на каждой строке словаря располагается слово и один или несколько переводов к нему. Слово и его переводы разделены дефисом, переводы одного слова разделены запятой. Дефис отделён от соседних слов пробельными символами. После запятой ставится пробельный символ.\n",
    "\n",
    "Функция get_new_dictionary(input_dict_name, output_dict_name) должна по русско-английскому словарю, находящемуся в input_dict_name, построить англо-русский словарь и сохранить его в файл с именем output_dict_name в аналогичном исходному словарю формате. Словарь должен быть полным, т.е. учитывать всю информацию, которая находилась в исходном словаре. Слова выходного словаря должны быть отсортированы в лексикографическом порядке. Если у слова несколько переводов - все они должны быть отсортированы в лексикографическом порядке."
   ]
  },
  {
   "cell_type": "code",
   "execution_count": 242,
   "id": "cea9f88a-09ef-406c-91c3-6d8731971b29",
   "metadata": {},
   "outputs": [],
   "source": [
    "def get_new_dictionary(input_dict_name, output_dict_name):\n",
    "    dictionary = {}\n",
    "    with open(input_dict_name, 'r') as f:\n",
    "        for line in f.readlines()[1:]:\n",
    "            line_list = line.replace(',',' -').replace(' ','').replace('\\n', '').split('-')\n",
    "            for value in line_list[1:]:\n",
    "                dictionary[value] = dictionary.get(value, []) + [line_list[0]]\n",
    "    sorted_dictionary = {key : sorted(dictionary[key]) for key in sorted(dictionary)}\n",
    "    with open(output_dict_name, 'w') as f:\n",
    "        print(str(len(sorted_dictionary)), file = f)\n",
    "        for key, value in sorted_dictionary.items():\n",
    "            print(key, end= ' - ', file = f)\n",
    "            print(*value, sep = ', ', file = f)"
   ]
  },
  {
   "cell_type": "code",
   "execution_count": 243,
   "id": "87753caf-92ee-4826-92f7-cb743571efeb",
   "metadata": {},
   "outputs": [],
   "source": [
    "get_new_dictionary('input_dict_name.txt', 'output_dict_name.txt')"
   ]
  }
 ],
 "metadata": {
  "kernelspec": {
   "display_name": "Python 3 (ipykernel)",
   "language": "python",
   "name": "python3"
  },
  "language_info": {
   "codemirror_mode": {
    "name": "ipython",
    "version": 3
   },
   "file_extension": ".py",
   "mimetype": "text/x-python",
   "name": "python",
   "nbconvert_exporter": "python",
   "pygments_lexer": "ipython3",
   "version": "3.8.12"
  }
 },
 "nbformat": 4,
 "nbformat_minor": 5
}
